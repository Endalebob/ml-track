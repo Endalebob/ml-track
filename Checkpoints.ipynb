{
  "cells": [
    {
      "cell_type": "markdown",
      "metadata": {
        "id": "view-in-github",
        "colab_type": "text"
      },
      "source": [
        "<a href=\"https://colab.research.google.com/github/Endalebob/ml-track/blob/main/Checkpoints.ipynb\" target=\"_parent\"><img src=\"https://colab.research.google.com/assets/colab-badge.svg\" alt=\"Open In Colab\"/></a>"
      ]
    },
    {
      "cell_type": "markdown",
      "id": "70d68298",
      "metadata": {
        "id": "70d68298"
      },
      "source": [
        "# Checkpoints"
      ]
    },
    {
      "cell_type": "markdown",
      "id": "67d0260a",
      "metadata": {
        "id": "67d0260a"
      },
      "source": [
        "**CP1**:\n",
        "Given the list $[A, B, C]$, use the `itertools` module to generate all possible\n",
        "combinations of 2 elements.\n",
        "\n",
        "**Expected Output**:\n",
        "$$\n",
        " (A, B) \\\\\n",
        " (A, C) \\\\\n",
        " (B, C)\n",
        "$$"
      ]
    },
    {
      "cell_type": "code",
      "execution_count": 14,
      "id": "9dd63d67",
      "metadata": {
        "colab": {
          "base_uri": "https://localhost:8080/"
        },
        "id": "9dd63d67",
        "outputId": "efa86d32-d77a-446e-da0c-58f1c74ce0ce"
      },
      "outputs": [
        {
          "output_type": "stream",
          "name": "stdout",
          "text": [
            "('A', 'B')\n",
            "('A', 'C')\n",
            "('B', 'C')\n"
          ]
        }
      ],
      "source": [
        "import itertools\n",
        "\n",
        "my_list = ['A', 'B', 'C']\n",
        "combinations = itertools.combinations(my_list, 2)\n",
        "\n",
        "for _ in combinations:\n",
        "  print(_)"
      ]
    },
    {
      "cell_type": "markdown",
      "id": "31c15dce",
      "metadata": {
        "id": "31c15dce"
      },
      "source": [
        "**CP2**:\n",
        "Use the `itertools` module to create a sequence that cycles through\n",
        "['Python', 'is', 'fun'] infinitely. Print the first 10 elements of the sequence.\n",
        "\n",
        "**Expected Output**:\n",
        "$$\n",
        "Python \\\\\n",
        "is\\\\\n",
        "fun\\\\\n",
        "Python\\\\\n",
        "is\\\\\n",
        "fun\\\\\n",
        "Python\\\\\n",
        "is\\\\\n",
        "fun\\\\\n",
        "Python\n",
        "$$"
      ]
    },
    {
      "cell_type": "code",
      "execution_count": 15,
      "id": "c75f246c",
      "metadata": {
        "colab": {
          "base_uri": "https://localhost:8080/"
        },
        "id": "c75f246c",
        "outputId": "852c266c-0888-4667-a4c0-69694d746d6f"
      },
      "outputs": [
        {
          "output_type": "stream",
          "name": "stdout",
          "text": [
            "Python\n",
            "is\n",
            "fun\n",
            "Python\n",
            "is\n",
            "fun\n",
            "Python\n",
            "is\n",
            "fun\n",
            "Python\n"
          ]
        }
      ],
      "source": [
        "import itertools\n",
        "\n",
        "sequence = itertools.cycle(['Python', 'is', 'fun'])\n",
        "\n",
        "for _ in range(10):\n",
        "    print(next(sequence))\n"
      ]
    },
    {
      "cell_type": "markdown",
      "id": "cbef0f63",
      "metadata": {
        "id": "cbef0f63"
      },
      "source": [
        "**CP3**:\n",
        "Use the `glob` module to list all python (.py) files in your current working directory.\n",
        "\n",
        "\n"
      ]
    },
    {
      "cell_type": "code",
      "execution_count": 16,
      "id": "3e62d5b4",
      "metadata": {
        "colab": {
          "base_uri": "https://localhost:8080/"
        },
        "id": "3e62d5b4",
        "outputId": "dda6ba3d-cf87-40eb-c3e0-4438b4517ede"
      },
      "outputs": [
        {
          "output_type": "stream",
          "name": "stdout",
          "text": [
            "backtrack.py\n",
            "dynamic_range_sum.py\n"
          ]
        }
      ],
      "source": [
        "import glob\n",
        "\n",
        "python_files = glob.glob('*.py')\n",
        "\n",
        "for file in python_files:\n",
        "    print(file)"
      ]
    },
    {
      "cell_type": "markdown",
      "id": "d266d698",
      "metadata": {
        "id": "d266d698"
      },
      "source": [
        "**CP4**: You are given the following HTML content below. Write a function that uses BeautifulSoup to parse the HTML and extract the text inside the   '$<p>$'   tag.\n"
      ]
    },
    {
      "cell_type": "code",
      "execution_count": 20,
      "id": "27f941c8",
      "metadata": {
        "id": "27f941c8"
      },
      "outputs": [],
      "source": [
        "#<html><body><div class='main'><h1>Welcome to AI</h1><p>AI is transforming the world</p></div></body></html>"
      ]
    },
    {
      "cell_type": "code",
      "execution_count": 21,
      "id": "6fb1cdcf",
      "metadata": {
        "colab": {
          "base_uri": "https://localhost:8080/",
          "height": 36
        },
        "id": "6fb1cdcf",
        "outputId": "b59bf884-2c53-48f7-d96e-0d727e103049"
      },
      "outputs": [
        {
          "output_type": "execute_result",
          "data": {
            "text/plain": [
              "'AI is transforming the world'"
            ],
            "application/vnd.google.colaboratory.intrinsic+json": {
              "type": "string"
            }
          },
          "metadata": {},
          "execution_count": 21
        }
      ],
      "source": [
        "from bs4 import BeautifulSoup\n",
        "\n",
        "def content_extractor(content):\n",
        "  soup = BeautifulSoup(content,\"html.parser\")\n",
        "  paragraph = soup.find('p')\n",
        "  if paragraph:\n",
        "    return paragraph.get_text()\n",
        "  return None\n",
        "\n",
        "content = \"<html><body><div class='main'><h1>Welcome to AI</h1><p>AI is transforming the world</p></div></body></html>\"\n",
        "\n",
        "content_extractor(content)"
      ]
    },
    {
      "cell_type": "markdown",
      "id": "a1fce3ef",
      "metadata": {
        "id": "a1fce3ef"
      },
      "source": [
        "**CP5**: Write a function that uses the re module to replace all occurrences of the word \"AI\" with \"Artificial Intelligence\" in a given text."
      ]
    },
    {
      "cell_type": "code",
      "execution_count": 23,
      "id": "07178a2d",
      "metadata": {
        "colab": {
          "base_uri": "https://localhost:8080/",
          "height": 36
        },
        "id": "07178a2d",
        "outputId": "56463b5d-9e8d-40f1-c71c-c0072af3435a"
      },
      "outputs": [
        {
          "output_type": "execute_result",
          "data": {
            "text/plain": [
              "'Welcome to Artificial Intelligence. Artificial Intelligence is transforming the world'"
            ],
            "application/vnd.google.colaboratory.intrinsic+json": {
              "type": "string"
            }
          },
          "metadata": {},
          "execution_count": 23
        }
      ],
      "source": [
        "import re\n",
        "\n",
        "string = \"Welcome to AI. AI is transforming the world\"\n",
        "pattern = r'AI'\n",
        "replace = 'Artificial Intelligence'\n",
        "replaced_string = re.sub(pattern,replace,string)\n",
        "\n",
        "replaced_string"
      ]
    },
    {
      "cell_type": "markdown",
      "id": "4e471de6",
      "metadata": {
        "id": "4e471de6"
      },
      "source": [
        "**CP6**: Create a numpy array of 10 zeros."
      ]
    },
    {
      "cell_type": "code",
      "execution_count": 24,
      "id": "7f6e9acb",
      "metadata": {
        "colab": {
          "base_uri": "https://localhost:8080/"
        },
        "id": "7f6e9acb",
        "outputId": "33de7824-75f2-47c0-8633-bab82daf4532"
      },
      "outputs": [
        {
          "output_type": "execute_result",
          "data": {
            "text/plain": [
              "array([0., 0., 0., 0., 0., 0., 0., 0., 0., 0.])"
            ]
          },
          "metadata": {},
          "execution_count": 24
        }
      ],
      "source": [
        "import numpy as np\n",
        "\n",
        "ten_zeros = np.zeros(10)\n",
        "ten_zeros"
      ]
    },
    {
      "cell_type": "markdown",
      "id": "5f52a63e",
      "metadata": {
        "id": "5f52a63e"
      },
      "source": [
        "**CP7** Create a numpy array of the integers from 10 to 49."
      ]
    },
    {
      "cell_type": "code",
      "execution_count": 25,
      "id": "ddb01e9a",
      "metadata": {
        "colab": {
          "base_uri": "https://localhost:8080/"
        },
        "id": "ddb01e9a",
        "outputId": "c867f1d2-af79-485f-a0b0-573b03f19998"
      },
      "outputs": [
        {
          "output_type": "execute_result",
          "data": {
            "text/plain": [
              "array([10, 11, 12, 13, 14, 15, 16, 17, 18, 19, 20, 21, 22, 23, 24, 25, 26,\n",
              "       27, 28, 29, 30, 31, 32, 33, 34, 35, 36, 37, 38, 39, 40, 41, 42, 43,\n",
              "       44, 45, 46, 47, 48, 49])"
            ]
          },
          "metadata": {},
          "execution_count": 25
        }
      ],
      "source": [
        "ten_to_49 = np.arange(10,50)\n",
        "ten_to_49"
      ]
    },
    {
      "cell_type": "markdown",
      "id": "79e4d614",
      "metadata": {
        "id": "79e4d614"
      },
      "source": [
        "**CP8**: Create a 3x3 numpy matrix, filled with values ranging from 0 to 8."
      ]
    },
    {
      "cell_type": "code",
      "execution_count": 29,
      "id": "d3eddea4",
      "metadata": {
        "colab": {
          "base_uri": "https://localhost:8080/"
        },
        "id": "d3eddea4",
        "outputId": "5f3be411-8506-4d46-8f7d-3b1888e1c087"
      },
      "outputs": [
        {
          "output_type": "execute_result",
          "data": {
            "text/plain": [
              "array([[0, 1, 2],\n",
              "       [3, 4, 5],\n",
              "       [6, 7, 8]])"
            ]
          },
          "metadata": {},
          "execution_count": 29
        }
      ],
      "source": [
        "oneD = np.arange(9)\n",
        "threeD = oneD.reshape(3,3)\n",
        "threeD"
      ]
    },
    {
      "cell_type": "markdown",
      "id": "1b09270f",
      "metadata": {
        "id": "1b09270f"
      },
      "source": [
        "**CP9**: Explain why machine learning models require large amounts of data? What does it mean for an amount of data to be **large**?\n",
        "\n",
        "\n"
      ]
    },
    {
      "cell_type": "markdown",
      "source": [
        "<h2>Machine learning models require large amounts of data for several reasons:</h2>\n",
        "\n",
        "<h3 style=\"color: green;\">Generalization:</h3>\n",
        "<p>Machine learning models aim to learn patterns and make predictions based on the data they are trained on. With more data, models can generalize better, meaning they can learn more representative and accurate patterns that are applicable to unseen data.</p>\n",
        "\n",
        "<h3 style=\"color: blue;\">Reducing Bias and Variance:</h3>\n",
        "<p>Large datasets can help mitigate both bias and variance in machine learning models. Bias refers to the model's tendency to consistently underfit or oversimplify the data, while variance refers to the model's sensitivity to the training data, resulting in overfitting. With more data, models have a better chance of capturing the true underlying patterns without being overly influenced by noise or outliers.</p>\n",
        "\n",
        "<h3 style=\"color: red;\">Feature Representation:</h3>\n",
        "<p>Machine learning models often require a sufficient amount of data to adequately represent the complexity and diversity of features present in the real-world problem. If the dataset is too small, it may not cover the full range of variations in the features, leading to poor model performance and limited applicability.</p>\n"
      ],
      "metadata": {
        "id": "z7VWhfAZ_q_L"
      },
      "id": "z7VWhfAZ_q_L"
    },
    {
      "cell_type": "code",
      "execution_count": null,
      "id": "a57e9726",
      "metadata": {
        "id": "a57e9726"
      },
      "outputs": [],
      "source": [
        "\n"
      ]
    },
    {
      "cell_type": "markdown",
      "id": "1a357bde",
      "metadata": {
        "id": "1a357bde"
      },
      "source": [
        "**CP10**: Explain 2 ways AI can be used in an adverserial way, and what can be done to prevent it."
      ]
    },
    {
      "cell_type": "markdown",
      "source": [
        "<style>\n",
        "  h3 {\n",
        "    color: blue;\n",
        "  }\n",
        "</style>\n",
        "\n",
        "<h2>AI can be used in adversarial ways, but preventive measures can help mitigate the risks:</h2>\n",
        "\n",
        "<h3>1. Adversarial Attacks on AI Models:</h3>\n",
        "<p>AI models can be susceptible to adversarial attacks, where malicious actors intentionally manipulate or perturb input data to deceive or mislead the model's predictions. These attacks can lead to incorrect decisions, such as misclassifying objects in image recognition or manipulating natural language processing models.</p>\n",
        "<p>To prevent adversarial attacks, techniques like adversarial training, input sanitization, and robust model architectures can be employed to enhance the model's resilience against adversarial manipulations.</p>\n",
        "\n",
        "<h3>2. AI-driven Disinformation and Manipulation:</h3>\n",
        "<p>AI can be employed to create and spread disinformation, propaganda, and fake media content, leading to social and political unrest. AI-powered text generation and deepfake technologies can be misused to create convincing fake news, misinformation, or impersonate individuals.</p>\n",
        "<p>Countermeasures to combat AI-driven disinformation include fact-checking initiatives, media literacy programs, and the development of AI algorithms to detect and filter out fake content.</p>\n"
      ],
      "metadata": {
        "id": "zq8auPkTBeJj"
      },
      "id": "zq8auPkTBeJj"
    },
    {
      "cell_type": "code",
      "execution_count": null,
      "id": "a9db70af",
      "metadata": {
        "id": "a9db70af"
      },
      "outputs": [],
      "source": []
    }
  ],
  "metadata": {
    "kernelspec": {
      "display_name": "Python 3 (ipykernel)",
      "language": "python",
      "name": "python3"
    },
    "language_info": {
      "codemirror_mode": {
        "name": "ipython",
        "version": 3
      },
      "file_extension": ".py",
      "mimetype": "text/x-python",
      "name": "python",
      "nbconvert_exporter": "python",
      "pygments_lexer": "ipython3",
      "version": "3.8.2"
    },
    "varInspector": {
      "cols": {
        "lenName": 16,
        "lenType": 16,
        "lenVar": 40
      },
      "kernels_config": {
        "python": {
          "delete_cmd_postfix": "",
          "delete_cmd_prefix": "del ",
          "library": "var_list.py",
          "varRefreshCmd": "print(var_dic_list())"
        },
        "r": {
          "delete_cmd_postfix": ") ",
          "delete_cmd_prefix": "rm(",
          "library": "var_list.r",
          "varRefreshCmd": "cat(var_dic_list()) "
        }
      },
      "types_to_exclude": [
        "module",
        "function",
        "builtin_function_or_method",
        "instance",
        "_Feature"
      ],
      "window_display": false
    },
    "colab": {
      "provenance": [],
      "include_colab_link": true
    }
  },
  "nbformat": 4,
  "nbformat_minor": 5
}