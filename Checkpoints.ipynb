{
  "cells": [
    {
      "cell_type": "markdown",
      "metadata": {
        "id": "view-in-github",
        "colab_type": "text"
      },
      "source": [
        "<a href=\"https://colab.research.google.com/github/Endalebob/ml-track/blob/main/Checkpoints.ipynb\" target=\"_parent\"><img src=\"https://colab.research.google.com/assets/colab-badge.svg\" alt=\"Open In Colab\"/></a>"
      ]
    },
    {
      "cell_type": "markdown",
      "id": "70d68298",
      "metadata": {
        "id": "70d68298"
      },
      "source": [
        "# Checkpoints"
      ]
    },
    {
      "cell_type": "markdown",
      "id": "67d0260a",
      "metadata": {
        "id": "67d0260a"
      },
      "source": [
        "**CP1**:\n",
        "Given the list $[A, B, C]$, use the `itertools` module to generate all possible\n",
        "combinations of 2 elements.\n",
        "\n",
        "**Expected Output**:\n",
        "$$\n",
        " (A, B) \\\\\n",
        " (A, C) \\\\\n",
        " (B, C)\n",
        "$$"
      ]
    },
    {
      "cell_type": "code",
      "execution_count": 32,
      "id": "9dd63d67",
      "metadata": {
        "colab": {
          "base_uri": "https://localhost:8080/"
        },
        "id": "9dd63d67",
        "outputId": "26b2f141-e6c3-4b5a-f8fb-534558c7b915"
      },
      "outputs": [
        {
          "output_type": "stream",
          "name": "stdout",
          "text": [
            "('A', 'B')\n",
            "('A', 'C')\n",
            "('B', 'C')\n"
          ]
        }
      ],
      "source": [
        "import itertools\n",
        "\n",
        "my_list = ['A', 'B', 'C']\n",
        "combinations = itertools.combinations(my_list, 2)\n",
        "\n",
        "for _ in combinations:\n",
        "  print(_)"
      ]
    },
    {
      "cell_type": "markdown",
      "id": "31c15dce",
      "metadata": {
        "id": "31c15dce"
      },
      "source": [
        "**CP2**:\n",
        "Use the `itertools` module to create a sequence that cycles through\n",
        "['Python', 'is', 'fun'] infinitely. Print the first 10 elements of the sequence.\n",
        "\n",
        "**Expected Output**:\n",
        "$$\n",
        "Python \\\\\n",
        "is\\\\\n",
        "fun\\\\\n",
        "Python\\\\\n",
        "is\\\\\n",
        "fun\\\\\n",
        "Python\\\\\n",
        "is\\\\\n",
        "fun\\\\\n",
        "Python\n",
        "$$"
      ]
    },
    {
      "cell_type": "code",
      "execution_count": 33,
      "id": "c75f246c",
      "metadata": {
        "colab": {
          "base_uri": "https://localhost:8080/"
        },
        "id": "c75f246c",
        "outputId": "ffb608e5-d22a-44d3-c9e3-042878be749e"
      },
      "outputs": [
        {
          "output_type": "stream",
          "name": "stdout",
          "text": [
            "Python\n",
            "is\n",
            "fun\n",
            "Python\n",
            "is\n",
            "fun\n",
            "Python\n",
            "is\n",
            "fun\n",
            "Python\n"
          ]
        }
      ],
      "source": [
        "import itertools\n",
        "\n",
        "sequence = itertools.cycle(['Python', 'is', 'fun'])\n",
        "\n",
        "for _ in range(10):\n",
        "    print(next(sequence))\n"
      ]
    },
    {
      "cell_type": "markdown",
      "id": "cbef0f63",
      "metadata": {
        "id": "cbef0f63"
      },
      "source": [
        "**CP3**:\n",
        "Use the `glob` module to list all python (.py) files in your current working directory.\n",
        "\n",
        "\n"
      ]
    },
    {
      "cell_type": "code",
      "execution_count": 34,
      "id": "3e62d5b4",
      "metadata": {
        "colab": {
          "base_uri": "https://localhost:8080/"
        },
        "id": "3e62d5b4",
        "outputId": "97d0c709-b691-4913-f737-1cb25968ec46"
      },
      "outputs": [
        {
          "output_type": "stream",
          "name": "stdout",
          "text": [
            "backtrack.py\n",
            "dynamic_range_sum.py\n"
          ]
        }
      ],
      "source": [
        "import glob\n",
        "\n",
        "python_files = glob.glob('*.py')\n",
        "\n",
        "for file in python_files:\n",
        "    print(file)"
      ]
    },
    {
      "cell_type": "markdown",
      "id": "d266d698",
      "metadata": {
        "id": "d266d698"
      },
      "source": [
        "**CP4**: You are given the following HTML content below. Write a function that uses BeautifulSoup to parse the HTML and extract the text inside the   '$<p>$'   tag.\n"
      ]
    },
    {
      "cell_type": "code",
      "execution_count": 20,
      "id": "27f941c8",
      "metadata": {
        "id": "27f941c8"
      },
      "outputs": [],
      "source": [
        "#<html><body><div class='main'><h1>Welcome to AI</h1><p>AI is transforming the world</p></div></body></html>"
      ]
    },
    {
      "cell_type": "code",
      "execution_count": 35,
      "id": "6fb1cdcf",
      "metadata": {
        "colab": {
          "base_uri": "https://localhost:8080/",
          "height": 36
        },
        "id": "6fb1cdcf",
        "outputId": "5b57abf1-0190-46cf-8058-578f106fcf9f"
      },
      "outputs": [
        {
          "output_type": "execute_result",
          "data": {
            "text/plain": [
              "'AI is transforming the world'"
            ],
            "application/vnd.google.colaboratory.intrinsic+json": {
              "type": "string"
            }
          },
          "metadata": {},
          "execution_count": 35
        }
      ],
      "source": [
        "from bs4 import BeautifulSoup\n",
        "\n",
        "def content_extractor(content):\n",
        "  soup = BeautifulSoup(content,\"html.parser\")\n",
        "  paragraph = soup.find('p')\n",
        "  if paragraph:\n",
        "    return paragraph.get_text()\n",
        "  return None\n",
        "\n",
        "content = \"<html><body><div class='main'><h1>Welcome to AI</h1><p>AI is transforming the world</p></div></body></html>\"\n",
        "\n",
        "content_extractor(content)"
      ]
    },
    {
      "cell_type": "markdown",
      "id": "a1fce3ef",
      "metadata": {
        "id": "a1fce3ef"
      },
      "source": [
        "**CP5**: Write a function that uses the re module to replace all occurrences of the word \"AI\" with \"Artificial Intelligence\" in a given text."
      ]
    },
    {
      "cell_type": "code",
      "execution_count": 36,
      "id": "07178a2d",
      "metadata": {
        "colab": {
          "base_uri": "https://localhost:8080/",
          "height": 36
        },
        "id": "07178a2d",
        "outputId": "fb3d3bfb-29ca-4fb3-9dd9-51e701666a88"
      },
      "outputs": [
        {
          "output_type": "execute_result",
          "data": {
            "text/plain": [
              "'Welcome to Artificial Intelligence. Artificial Intelligence is transforming the world'"
            ],
            "application/vnd.google.colaboratory.intrinsic+json": {
              "type": "string"
            }
          },
          "metadata": {},
          "execution_count": 36
        }
      ],
      "source": [
        "import re\n",
        "\n",
        "def word_replace(pattern,replace,string):\n",
        "  return re.sub(pattern,replace,string)\n",
        "\n",
        "string = \"Welcome to AI. AI is transforming the world\"\n",
        "pattern = r'AI'\n",
        "replace = 'Artificial Intelligence'\n",
        "replaced_string = word_replace(pattern,replace,string)\n",
        "\n",
        "replaced_string"
      ]
    },
    {
      "cell_type": "markdown",
      "id": "4e471de6",
      "metadata": {
        "id": "4e471de6"
      },
      "source": [
        "**CP6**: Create a numpy array of 10 zeros."
      ]
    },
    {
      "cell_type": "code",
      "execution_count": 37,
      "id": "7f6e9acb",
      "metadata": {
        "colab": {
          "base_uri": "https://localhost:8080/"
        },
        "id": "7f6e9acb",
        "outputId": "a136f02e-eb38-416a-a733-6d6618955807"
      },
      "outputs": [
        {
          "output_type": "execute_result",
          "data": {
            "text/plain": [
              "array([0., 0., 0., 0., 0., 0., 0., 0., 0., 0.])"
            ]
          },
          "metadata": {},
          "execution_count": 37
        }
      ],
      "source": [
        "import numpy as np\n",
        "\n",
        "ten_zeros = np.zeros(10)\n",
        "ten_zeros"
      ]
    },
    {
      "cell_type": "markdown",
      "id": "5f52a63e",
      "metadata": {
        "id": "5f52a63e"
      },
      "source": [
        "**CP7** Create a numpy array of the integers from 10 to 49."
      ]
    },
    {
      "cell_type": "code",
      "execution_count": 38,
      "id": "ddb01e9a",
      "metadata": {
        "colab": {
          "base_uri": "https://localhost:8080/"
        },
        "id": "ddb01e9a",
        "outputId": "55ad652b-d06b-40e3-f758-9e0d533dd344"
      },
      "outputs": [
        {
          "output_type": "execute_result",
          "data": {
            "text/plain": [
              "array([10, 11, 12, 13, 14, 15, 16, 17, 18, 19, 20, 21, 22, 23, 24, 25, 26,\n",
              "       27, 28, 29, 30, 31, 32, 33, 34, 35, 36, 37, 38, 39, 40, 41, 42, 43,\n",
              "       44, 45, 46, 47, 48, 49])"
            ]
          },
          "metadata": {},
          "execution_count": 38
        }
      ],
      "source": [
        "ten_to_49 = np.arange(10,50)\n",
        "ten_to_49"
      ]
    },
    {
      "cell_type": "markdown",
      "id": "79e4d614",
      "metadata": {
        "id": "79e4d614"
      },
      "source": [
        "**CP8**: Create a 3x3 numpy matrix, filled with values ranging from 0 to 8."
      ]
    },
    {
      "cell_type": "code",
      "execution_count": 39,
      "id": "d3eddea4",
      "metadata": {
        "colab": {
          "base_uri": "https://localhost:8080/"
        },
        "id": "d3eddea4",
        "outputId": "d9ec1ffe-3733-4296-8ff7-c8b5798367bb"
      },
      "outputs": [
        {
          "output_type": "execute_result",
          "data": {
            "text/plain": [
              "array([[0, 1, 2],\n",
              "       [3, 4, 5],\n",
              "       [6, 7, 8]])"
            ]
          },
          "metadata": {},
          "execution_count": 39
        }
      ],
      "source": [
        "oneD = np.arange(9)\n",
        "threeD = oneD.reshape(3,3)\n",
        "threeD"
      ]
    },
    {
      "cell_type": "markdown",
      "id": "1b09270f",
      "metadata": {
        "id": "1b09270f"
      },
      "source": [
        "**CP9**: Explain why machine learning models require large amounts of data? What does it mean for an amount of data to be **large**?\n",
        "\n",
        "\n"
      ]
    },
    {
      "cell_type": "markdown",
      "source": [
        "<h2>Machine learning models require large amounts of data for several reasons:</h2>\n",
        "\n",
        "<h3 style=\"color: blue;\">Generalization:</h3>\n",
        "<p>Machine learning models aim to learn patterns and make predictions based on the data they are trained on. With more data, models can generalize better, meaning they can learn more representative and accurate patterns that are applicable to unseen data.</p>\n",
        "\n",
        "<h3 style=\"color: blue;\">Reducing Bias and Variance:</h3>\n",
        "<p>Large datasets can help mitigate both bias and variance in machine learning models. Bias refers to the model's tendency to consistently underfit or oversimplify the data, while variance refers to the model's sensitivity to the training data, resulting in overfitting. With more data, models have a better chance of capturing the true underlying patterns without being overly influenced by noise or outliers.</p>\n",
        "\n",
        "<h3 style=\"color: blue;\">Feature Representation:</h3>\n",
        "<p>Machine learning models often require a sufficient amount of data to adequately represent the complexity and diversity of features present in the real-world problem. If the dataset is too small, it may not cover the full range of variations in the features, leading to poor model performance and limited applicability.</p>\n"
      ],
      "metadata": {
        "id": "z7VWhfAZ_q_L"
      },
      "id": "z7VWhfAZ_q_L"
    },
    {
      "cell_type": "code",
      "execution_count": null,
      "id": "a57e9726",
      "metadata": {
        "id": "a57e9726"
      },
      "outputs": [],
      "source": [
        "\n"
      ]
    },
    {
      "cell_type": "markdown",
      "id": "1a357bde",
      "metadata": {
        "id": "1a357bde"
      },
      "source": [
        "**CP10**: Explain 2 ways AI can be used in an adverserial way, and what can be done to prevent it."
      ]
    },
    {
      "cell_type": "markdown",
      "source": [
        "<h2>AI can be used in adversarial ways, it can be exploited or manipulated for harmful purposes.</h2>\n",
        "<p>Here are two ways AI can be misused and some potential preventive measures:</p>\n",
        "\n",
        "<h3 style=\"color: red;\">Adversarial Attacks on AI Models:</h3>\n",
        "<p>AI models can be susceptible to adversarial attacks, where malicious actors intentionally manipulate or perturb input data to deceive or mislead the model's predictions. These attacks can lead to incorrect decisions, such as misclassifying objects in image recognition or manipulating natural language processing models.</p>\n",
        "<p>To prevent adversarial attacks, techniques like adversarial training, input sanitization, and robust model architectures can be employed to enhance the model's resilience against adversarial manipulations.</p>\n",
        "\n",
        "<h3 style=\"color: red;\">AI-driven Disinformation and Manipulation:</h3>\n",
        "<p>AI can be employed to create and spread disinformation, propaganda, and fake media content, leading to social and political unrest. AI-powered text generation and deepfake technologies can be misused to create convincing fake news, misinformation, or impersonate individuals.</p>\n",
        "<p>Countermeasures to combat AI-driven disinformation include fact-checking initiatives, media literacy programs, and the development of AI algorithms to detect and filter out fake content.</p>\n",
        "\n",
        "<p>Preventive measures to address adversarial uses of AI include:</p>\n",
        "\n",
        "<ul>\n",
        "  <li><span style=\"color: blue;\">Robust and Secure Model Design:</span> Developing AI models with built-in security measures, such as secure architectures, encryption, and anomaly detection, to prevent unauthorized access and tampering.</li>\n",
        "  <li><span style=\"color: blue;\">Ethical Frameworks and Regulations:</span> Establishing clear ethical guidelines, legal frameworks, and regulations to ensure responsible AI development and deployment, including the identification and mitigation of potential adversarial risks.</li>\n",
        "  <li><span style=\"color: blue;\">Adversarial Testing and Evaluation:</span> Conducting rigorous testing and evaluation of AI models to identify vulnerabilities and weaknesses, including adversarial testing to assess the model's resilience against attacks.</li>\n",
        "  <li><span style=\"color: blue;\">Ongoing Research and Collaboration:</span> Encouraging continuous research and collaboration among AI practitioners, researchers, policymakers, and other stakeholders to address emerging adversarial challenges and develop effective countermeasures.</li>\n",
        "  <li><span style=\"color: blue;\">Transparency and Accountability:</span> Promoting transparency in AI systems by providing explanations of model decisions and maintaining accountability for the use of AI technology, particularly in critical domains such as healthcare, finance, and security.</li>\n",
        "</ul>\n"
      ],
      "metadata": {
        "id": "zq8auPkTBeJj"
      },
      "id": "zq8auPkTBeJj"
    },
    {
      "cell_type": "code",
      "execution_count": null,
      "id": "a9db70af",
      "metadata": {
        "id": "a9db70af"
      },
      "outputs": [],
      "source": []
    }
  ],
  "metadata": {
    "kernelspec": {
      "display_name": "Python 3 (ipykernel)",
      "language": "python",
      "name": "python3"
    },
    "language_info": {
      "codemirror_mode": {
        "name": "ipython",
        "version": 3
      },
      "file_extension": ".py",
      "mimetype": "text/x-python",
      "name": "python",
      "nbconvert_exporter": "python",
      "pygments_lexer": "ipython3",
      "version": "3.8.2"
    },
    "varInspector": {
      "cols": {
        "lenName": 16,
        "lenType": 16,
        "lenVar": 40
      },
      "kernels_config": {
        "python": {
          "delete_cmd_postfix": "",
          "delete_cmd_prefix": "del ",
          "library": "var_list.py",
          "varRefreshCmd": "print(var_dic_list())"
        },
        "r": {
          "delete_cmd_postfix": ") ",
          "delete_cmd_prefix": "rm(",
          "library": "var_list.r",
          "varRefreshCmd": "cat(var_dic_list()) "
        }
      },
      "types_to_exclude": [
        "module",
        "function",
        "builtin_function_or_method",
        "instance",
        "_Feature"
      ],
      "window_display": false
    },
    "colab": {
      "provenance": [],
      "include_colab_link": true
    }
  },
  "nbformat": 4,
  "nbformat_minor": 5
}